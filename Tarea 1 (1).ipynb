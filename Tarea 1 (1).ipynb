{
 "cells": [
  {
   "cell_type": "markdown",
   "id": "a07602e7",
   "metadata": {},
   "source": [
    "<img style=\"float: left; margin: 30px 15px 15px 15px;\" src=\"https://encrypted-tbn0.gstatic.com/images?q=tbn:ANd9GcTFzQj91sOlkeDFkg5HDbjtR4QJYmLXkfMNig&usqp=CAU\" width=\"400\" height=\"500\" /> \n",
    "    \n",
    "    \n",
    "### <font color='navy'> Simulación matemática. \n",
    "\n",
    "**Nombres:**  Bruno Yael Duran Cortez, Eduardo Gutiérrez Flores.\n",
    "\n",
    "**Fecha:** 30 de octubre del 2022.\n",
    "\n",
    "**Expediente** : 741305.\n",
    "    \n",
    "**Profesor:** Oscar David Jaramillo Zuluaga.\n",
    "    \n",
    "**Link Github**: https://github.com/Lalogtz/ProyectoConjunto_EGutierrez.git\n",
    "\n",
    "# Tarea 1: Clase 2"
   ]
  },
  {
   "cell_type": "code",
   "execution_count": 27,
   "id": "777bf567",
   "metadata": {},
   "outputs": [],
   "source": [
    "import pandas as pd "
   ]
  },
  {
   "cell_type": "markdown",
   "id": "aacb03da",
   "metadata": {},
   "source": [
    "## Enunciado de tarea (Transcibirlo)\n",
    "> Descripción de la tarea"
   ]
  },
  {
   "cell_type": "markdown",
   "id": "d3be7f70",
   "metadata": {},
   "source": [
    "Este archivo contiene las pautas necesarias para crear el archivo conjunto en Github, usando los notebooks de Jupyter:\n",
    "1.  En este nuevo notebook el ESTUDIANTE 1 y ESTUDIANTE 2, deben realizar una presentación con la siguiente información:\n",
    "    - Foto actualizada\n",
    "    - Fecha y lugar de nacimiento\n",
    "    - Ciudad de origen\n",
    "    - Familia (Integrantes)\n",
    "    - Aspiraciones\n",
    "    - Hobbies (¿En qué invierte el tiempo libre?)\n",
    "    - Música favorita\n",
    "    - ¿Qué nuevos talentos/habilidades ha exploraron en la cuarentena?\n",
    "    - Motivo de elección de la carrera\n",
    "También cada estudiante debe de realizar  la transcipción de la Figura 1 y Figura 2 respectivamente, haciendo uso de la sintaxis Markdown. Recuerden definir unas celdas donde cada usuario modificará el cuaderno de python para evitar futuros conflictos. "
   ]
  },
  {
   "cell_type": "code",
   "execution_count": null,
   "id": "fa4501cd",
   "metadata": {},
   "outputs": [],
   "source": [
    "Código de solución estudiante 1"
   ]
  },
  {
   "cell_type": "code",
   "execution_count": 18,
   "id": "e91a9187",
   "metadata": {},
   "outputs": [
    {
     "ename": "SyntaxError",
     "evalue": "invalid syntax (3691168239.py, line 2)",
     "output_type": "error",
     "traceback": [
      "\u001b[1;36m  Input \u001b[1;32mIn [18]\u001b[1;36m\u001b[0m\n\u001b[1;33m    .\u001b[0m\n\u001b[1;37m    ^\u001b[0m\n\u001b[1;31mSyntaxError\u001b[0m\u001b[1;31m:\u001b[0m invalid syntax\n"
     ]
    }
   ],
   "source": [
    "# Código de solución estudiante 1\n",
    ".\n",
    ".\n",
    ".\n",
    ".\n"
   ]
  },
  {
   "cell_type": "markdown",
   "id": "1a9f6b90",
   "metadata": {},
   "source": [
    "Código de solución estudiante 2"
   ]
  },
  {
   "attachments": {},
   "cell_type": "markdown",
   "id": "84e9cc28",
   "metadata": {},
   "source": [
    "### Respuesta planteada en el ejercicio usando (markdown)\n",
    " La respuesta es:\n",
    " \n",
    "    - ![image-2.png](attachment:image-2.png)\n",
    "    - 25 de julio del 2002 Fresnillo,Zacatecas\n",
    "    - Fresnillo,Zacatecas\n",
    "    - Papá,mamá y un hermano\n",
    "    - Ver TikTok,Hacer gimnasio,Jugar videojuegos\n",
    "    - Banda,Rock,Rap,Reggeaton,Pop\n",
    "    - Tocar la guitarra y hacer mixologia\n",
    "    - Yo escogi la carrera de Ingenieria financiera,por que la verdad queria ver algo poco escuchado como lo es como manejar tu dinero o el de alguien mas.\n"
   ]
  },
  {
   "cell_type": "markdown",
   "id": "4f80ad40",
   "metadata": {},
   "source": [
    "6. Cuando ya se encuentre el proyecto conjunto con la información del ESTUDIANTE 1 y ESTUDIANTE 2, el ``ESTUDIANTE 2``  debe de realizar un `pull request` con las modificaciones realizadas a el `ESTUDIANTE 1` para que este realice un merge a la rama `master`, con las moficaciones propuestas por el `ESTUDIANTE 2`, TAL Y CÓMO SE REALIZÓ EN CLASE. (Recuerden que los pull request se generan en *Gitkraken* y se administran los comentarios o cambios propuestos por su compañero desde *Github* ver `Clase1_GitTurorial` para aclaración de dudas, donde se explica cómo crear *branch y pull request*)"
   ]
  },
  {
   "cell_type": "markdown",
   "id": "b8e51db3",
   "metadata": {},
   "source": [
    "## Respuesta planteada en el ejercicio usando (markdown)\n",
    "La respuesta es:"
   ]
  },
  {
   "cell_type": "markdown",
   "id": "7ae7a7a3",
   "metadata": {},
   "source": [
    "|  i  |  1 | 2 | 3 | 4 | 5 | 6 | 7 |\n",
    "| --- |---|---|---|---|---|---|---|\n",
    "|$$E_i$$|12|10|24 | 12 | -  | - | - |\n",
    "|$$r_i$$|0.1|0.5|0.2|0.5| - | - | - |\n",
    "|$$R_i$$|25 |40 |16 |20 |9 |4 |20  |\n"
   ]
  },
  {
   "cell_type": "code",
   "execution_count": 33,
   "id": "ff0bc600",
   "metadata": {},
   "outputs": [
    {
     "data": {
      "text/html": [
       "<div>\n",
       "<style scoped>\n",
       "    .dataframe tbody tr th:only-of-type {\n",
       "        vertical-align: middle;\n",
       "    }\n",
       "\n",
       "    .dataframe tbody tr th {\n",
       "        vertical-align: top;\n",
       "    }\n",
       "\n",
       "    .dataframe thead th {\n",
       "        text-align: right;\n",
       "    }\n",
       "</style>\n",
       "<table border=\"1\" class=\"dataframe\">\n",
       "  <thead>\n",
       "    <tr style=\"text-align: right;\">\n",
       "      <th></th>\n",
       "      <th>i</th>\n",
       "      <th>1</th>\n",
       "      <th>2</th>\n",
       "      <th>3</th>\n",
       "      <th>4</th>\n",
       "      <th>5</th>\n",
       "      <th>6</th>\n",
       "      <th>7</th>\n",
       "    </tr>\n",
       "  </thead>\n",
       "  <tbody>\n",
       "    <tr>\n",
       "      <th>0</th>\n",
       "      <td>E</td>\n",
       "      <td>12.0</td>\n",
       "      <td>10.0</td>\n",
       "      <td>24.0</td>\n",
       "      <td>12.0</td>\n",
       "      <td>-</td>\n",
       "      <td>-</td>\n",
       "      <td>-</td>\n",
       "    </tr>\n",
       "    <tr>\n",
       "      <th>1</th>\n",
       "      <td>r</td>\n",
       "      <td>0.1</td>\n",
       "      <td>0.5</td>\n",
       "      <td>0.2</td>\n",
       "      <td>0.5</td>\n",
       "      <td>-</td>\n",
       "      <td>-</td>\n",
       "      <td>-</td>\n",
       "    </tr>\n",
       "    <tr>\n",
       "      <th>2</th>\n",
       "      <td>i</td>\n",
       "      <td>25.0</td>\n",
       "      <td>40.0</td>\n",
       "      <td>16.0</td>\n",
       "      <td>20.0</td>\n",
       "      <td>9</td>\n",
       "      <td>4</td>\n",
       "      <td>20</td>\n",
       "    </tr>\n",
       "  </tbody>\n",
       "</table>\n",
       "</div>"
      ],
      "text/plain": [
       "   i     1     2     3     4  5  6   7\n",
       "0  E  12.0  10.0  24.0  12.0  -  -   -\n",
       "1  r   0.1   0.5   0.2   0.5  -  -   -\n",
       "2  i  25.0  40.0  16.0  20.0  9  4  20"
      ]
     },
     "execution_count": 33,
     "metadata": {},
     "output_type": "execute_result"
    }
   ],
   "source": [
    "# Código de solución estudiante 2\n",
    "tabla = pd.DataFrame()\n",
    "tabla[\"i\"] = [\"E\",\"r\",\"i\"]\n",
    "tabla[\"1\"] = [12,0.1,25]\n",
    "tabla[\"2\"] = [10,0.5,40]\n",
    "tabla[\"3\"] = [24,0.2,16]\n",
    "tabla[\"4\"] = [12,0.5,20]\n",
    "tabla[\"5\"] = [\"-\",\"-\",9]\n",
    "tabla[\"6\"] = [\"-\",\"-\",4]\n",
    "tabla[\"7\"] = [\"-\",\"-\",20]\n",
    "tabla"
   ]
  },
  {
   "cell_type": "markdown",
   "id": "714ced43",
   "metadata": {},
   "source": [
    "<font color='blue'> **Kemma y Vorst (1990)** <font color='black'> **muestran que las opciones asiáticas con media geométrica continua se pueden valuar con el mismo enfoque de las opciones plain vanilla; solo se deben cambiar los parámetros de volatilidad a por $\\sigma$ y el costo de acarreo b por \\$b_A$. De acuerdo con Kemna y Vorst, las fórmulas para valuar una opción de compra y una opción de venta son.**"
   ]
  },
  {
   "attachments": {
    "image-2.png": {
     "image/png": "[encoded data removed]"
    }
   },
   "cell_type": "markdown",
   "id": "4faa5165",
   "metadata": {},
   "source": [
    "![image-2.png](attachment:image-2.png)"
   ]
  },
  {
   "cell_type": "markdown",
   "id": "fe0448bf",
   "metadata": {},
   "source": [
    "**con \\$d_1 y d_2$ dados por:**"
   ]
  },
  {
   "attachments": {
    "image.png": {
     "image/png": "[encoded data removed]"
    }
   },
   "cell_type": "markdown",
   "id": "fd1efaa1",
   "metadata": {},
   "source": [
    "![image.png](attachment:image.png)"
   ]
  },
  {
   "cell_type": "markdown",
   "id": "1e15ccca",
   "metadata": {},
   "source": [
    "**La función $\\phi$ es la función de distribución acumulada de _E_~_N_(0,1).La volatilidad ajustada es igual a:**"
   ]
  },
  {
   "attachments": {
    "image.png": {
     "image/png": "[encoded data removed]"
    }
   },
   "cell_type": "markdown",
   "id": "f228e686",
   "metadata": {},
   "source": [
    "![image.png](attachment:image.png)"
   ]
  },
  {
   "cell_type": "markdown",
   "id": "94d84ac5",
   "metadata": {},
   "source": [
    "Por otro lado, el ESTUDIANTE 2,creando un “branch” llamado ejerPrograma, generará un programa que muestre los números primos del 0-100. Luego de que el ESTUDIANTE 2 haya terminado su programa, debe de realizar un “pull request” al ESTUDIANTE 1, ANTES de hacer un “merge” de la rama ejerPrograma en el proyecto principal (“master”). Luego de realizado estos pasos NO BORRAR LA RAMA CREADA (ejerPrograma)"
   ]
  },
  {
   "cell_type": "code",
   "execution_count": null,
   "id": "1c1894db",
   "metadata": {},
   "outputs": [],
   "source": []
  }
 ],
 "metadata": {
  "kernelspec": {
   "display_name": "Python 3 (ipykernel)",
   "language": "python",
   "name": "python3"
  },
  "language_info": {
   "codemirror_mode": {
    "name": "ipython",
    "version": 3
   },
   "file_extension": ".py",
   "mimetype": "text/x-python",
   "name": "python",
   "nbconvert_exporter": "python",
   "pygments_lexer": "ipython3",
   "version": "3.9.12"
  }
 },
 "nbformat": 4,
 "nbformat_minor": 5
}
